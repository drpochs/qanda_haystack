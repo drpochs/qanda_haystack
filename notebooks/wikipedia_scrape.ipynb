{
 "cells": [
  {
   "attachments": {},
   "cell_type": "markdown",
   "metadata": {},
   "source": [
    "# Example to Download Wikipedia Articles"
   ]
  },
  {
   "cell_type": "code",
   "execution_count": 6,
   "metadata": {},
   "outputs": [],
   "source": [
    "import wikipedia\n",
    "import re\n",
    "import pathlib"
   ]
  },
  {
   "cell_type": "code",
   "execution_count": 7,
   "metadata": {},
   "outputs": [],
   "source": [
    "# Supporting functions\n",
    "\n",
    "def text_cleaner(text:str) -> str:\n",
    "    # Remove the headers that are undesired.\n",
    "    text = re.sub(r'==.*?==+', '', text)\n",
    "    # Remove the linebreaks that are undesired.\n",
    "    text = text.replace('\\n', '')\n",
    "    # Add single spaces behind the full-stop.\n",
    "    text = re.sub(r'\\.', '. ', text)\n",
    "    # Rid multiple spaces in the text.\n",
    "    text = re.sub(r' +', ' ', text)\n",
    "    return text"
   ]
  },
  {
   "cell_type": "code",
   "execution_count": 8,
   "metadata": {},
   "outputs": [
    {
     "data": {
      "text/plain": [
       "'The Financial Times Stock Exchange 100 Index, also called the FTSE 100 Index, FTSE 100, FTSE, or, informally, the \"Footsie\" , is a share index of the 100 companies listed on the London Stock Exchange with (in principle) the highest market capitalisation. The index is maintained by the FTSE Group, a subsidiary of the London Stock Exchange Group.'"
      ]
     },
     "execution_count": 8,
     "metadata": {},
     "output_type": "execute_result"
    }
   ],
   "source": [
    "wikipedia.summary(\"FTSE100\")"
   ]
  },
  {
   "cell_type": "code",
   "execution_count": 9,
   "metadata": {},
   "outputs": [],
   "source": [
    "list_companies = wikipedia.WikipediaPage(\"FTSE100\").links[3:]"
   ]
  },
  {
   "cell_type": "code",
   "execution_count": 10,
   "metadata": {},
   "outputs": [
    {
     "name": "stdout",
     "output_type": "stream",
     "text": [
      "Completed Download!\n"
     ]
    }
   ],
   "source": [
    "for company_name in list_companies: \n",
    "    text = wikipedia.WikipediaPage(company_name).content\n",
    "    text = text_cleaner(text=text)\n",
    "    # print(f\"Read and cleaned data for {company_name}.\")\n",
    "    # Write content to file\n",
    "    with open(pathlib.Path.cwd().parent.joinpath(f\"text_dir/{company_name.replace(' ', '_')}.txt\"), \"w\") as f:\n",
    "        f.write(text)\n",
    "print(\"Completed Download!\")"
   ]
  },
  {
   "cell_type": "code",
   "execution_count": null,
   "metadata": {},
   "outputs": [],
   "source": []
  }
 ],
 "metadata": {
  "kernelspec": {
   "display_name": "qanda_haystack",
   "language": "python",
   "name": "python3"
  },
  "language_info": {
   "codemirror_mode": {
    "name": "ipython",
    "version": 3
   },
   "file_extension": ".py",
   "mimetype": "text/x-python",
   "name": "python",
   "nbconvert_exporter": "python",
   "pygments_lexer": "ipython3",
   "version": "3.10.9"
  },
  "orig_nbformat": 4,
  "vscode": {
   "interpreter": {
    "hash": "42c9da3c655bf99ea58e01f11b8c3301c517265771f4a09b1d8e0720c7448dbd"
   }
  }
 },
 "nbformat": 4,
 "nbformat_minor": 2
}
