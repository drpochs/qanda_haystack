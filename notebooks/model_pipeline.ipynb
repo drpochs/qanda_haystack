{
 "cells": [
  {
   "cell_type": "code",
   "execution_count": 5,
   "metadata": {},
   "outputs": [
    {
     "name": "stderr",
     "output_type": "stream",
     "text": [
      "02/20/2023 13:36:17 - INFO - root -   Using localhost sqlite as the database backend. as Database not configured. Add a qa_config.py file in the Python path with DATABASE_URL set.Continuing with the default sqlite on localhost.\n"
     ]
    },
    {
     "ename": "RuntimeError",
     "evalue": "Working outside of application context.\n\nThis typically means that you attempted to use functionality that needed\nthe current application. To solve this, set up an application context\nwith app.app_context(). See the documentation for more information.",
     "output_type": "error",
     "traceback": [
      "\u001b[1;31m---------------------------------------------------------------------------\u001b[0m",
      "\u001b[1;31mRuntimeError\u001b[0m                              Traceback (most recent call last)",
      "Cell \u001b[1;32mIn[5], line 7\u001b[0m\n\u001b[0;32m      4\u001b[0m logging\u001b[39m.\u001b[39mbasicConfig(\u001b[39mformat\u001b[39m\u001b[39m=\u001b[39m\u001b[39m\"\u001b[39m\u001b[39m%(levelname)s\u001b[39;00m\u001b[39m - \u001b[39m\u001b[39m%(name)s\u001b[39;00m\u001b[39m -  \u001b[39m\u001b[39m%(message)s\u001b[39;00m\u001b[39m\"\u001b[39m, level\u001b[39m=\u001b[39mlogging\u001b[39m.\u001b[39mWARNING)\n\u001b[0;32m      5\u001b[0m logging\u001b[39m.\u001b[39mgetLogger(\u001b[39m\"\u001b[39m\u001b[39mhaystack\u001b[39m\u001b[39m\"\u001b[39m)\u001b[39m.\u001b[39msetLevel(logging\u001b[39m.\u001b[39mINFO)\n\u001b[1;32m----> 7\u001b[0m \u001b[39mfrom\u001b[39;00m \u001b[39mhaystack\u001b[39;00m\u001b[39m.\u001b[39;00m\u001b[39mdocument_stores\u001b[39;00m \u001b[39mimport\u001b[39;00m InMemoryDocumentStore\n",
      "File \u001b[1;32mc:\\Users\\pochs\\AppData\\Local\\miniconda3\\envs\\qanda_haystack\\lib\\site-packages\\haystack\\__init__.py:1\u001b[0m\n\u001b[1;32m----> 1\u001b[0m \u001b[39mfrom\u001b[39;00m \u001b[39mhaystack\u001b[39;00m\u001b[39m.\u001b[39;00m\u001b[39mretriever\u001b[39;00m\u001b[39m.\u001b[39;00m\u001b[39mtfidf\u001b[39;00m \u001b[39mimport\u001b[39;00m TfidfRetriever\n\u001b[0;32m      2\u001b[0m \u001b[39mfrom\u001b[39;00m \u001b[39mhaystack\u001b[39;00m\u001b[39m.\u001b[39;00m\u001b[39mreader\u001b[39;00m\u001b[39m.\u001b[39;00m\u001b[39mfarm\u001b[39;00m \u001b[39mimport\u001b[39;00m FARMReader\n\u001b[0;32m      3\u001b[0m \u001b[39mfrom\u001b[39;00m \u001b[39mhaystack\u001b[39;00m\u001b[39m.\u001b[39;00m\u001b[39mdatabase\u001b[39;00m \u001b[39mimport\u001b[39;00m db\n",
      "File \u001b[1;32mc:\\Users\\pochs\\AppData\\Local\\miniconda3\\envs\\qanda_haystack\\lib\\site-packages\\haystack\\retriever\\tfidf.py:7\u001b[0m\n\u001b[0;32m      4\u001b[0m \u001b[39mimport\u001b[39;00m \u001b[39mpandas\u001b[39;00m \u001b[39mas\u001b[39;00m \u001b[39mpd\u001b[39;00m\n\u001b[0;32m      5\u001b[0m \u001b[39mfrom\u001b[39;00m \u001b[39msklearn\u001b[39;00m\u001b[39m.\u001b[39;00m\u001b[39mfeature_extraction\u001b[39;00m\u001b[39m.\u001b[39;00m\u001b[39mtext\u001b[39;00m \u001b[39mimport\u001b[39;00m TfidfVectorizer\n\u001b[1;32m----> 7\u001b[0m \u001b[39mfrom\u001b[39;00m \u001b[39mhaystack\u001b[39;00m\u001b[39m.\u001b[39;00m\u001b[39mdatabase\u001b[39;00m \u001b[39mimport\u001b[39;00m db\n\u001b[0;32m      8\u001b[0m \u001b[39mfrom\u001b[39;00m \u001b[39mhaystack\u001b[39;00m\u001b[39m.\u001b[39;00m\u001b[39mdatabase\u001b[39;00m\u001b[39m.\u001b[39;00m\u001b[39morm\u001b[39;00m \u001b[39mimport\u001b[39;00m Document\n\u001b[0;32m     10\u001b[0m logger \u001b[39m=\u001b[39m logging\u001b[39m.\u001b[39mgetLogger(\u001b[39m__name__\u001b[39m)\n",
      "File \u001b[1;32mc:\\Users\\pochs\\AppData\\Local\\miniconda3\\envs\\qanda_haystack\\lib\\site-packages\\haystack\\database\\__init__.py:28\u001b[0m\n\u001b[0;32m     26\u001b[0m app\u001b[39m.\u001b[39mconfig[\u001b[39m\"\u001b[39m\u001b[39mSQLALCHEMY_DATABASE_URI\u001b[39m\u001b[39m\"\u001b[39m] \u001b[39m=\u001b[39m \u001b[39mf\u001b[39m\u001b[39m\"\u001b[39m\u001b[39m{\u001b[39;00mDATABASE_URL\u001b[39m}\u001b[39;00m\u001b[39m\"\u001b[39m\n\u001b[0;32m     27\u001b[0m db \u001b[39m=\u001b[39m SQLAlchemy(app)\n\u001b[1;32m---> 28\u001b[0m db\u001b[39m.\u001b[39;49mcreate_all()\n",
      "File \u001b[1;32mc:\\Users\\pochs\\AppData\\Local\\miniconda3\\envs\\qanda_haystack\\lib\\site-packages\\flask_sqlalchemy\\extension.py:884\u001b[0m, in \u001b[0;36mSQLAlchemy.create_all\u001b[1;34m(self, bind_key)\u001b[0m\n\u001b[0;32m    867\u001b[0m \u001b[39mdef\u001b[39;00m \u001b[39mcreate_all\u001b[39m(\u001b[39mself\u001b[39m, bind_key: \u001b[39mstr\u001b[39m \u001b[39m|\u001b[39m \u001b[39mNone\u001b[39;00m \u001b[39m|\u001b[39m \u001b[39mlist\u001b[39m[\u001b[39mstr\u001b[39m \u001b[39m|\u001b[39m \u001b[39mNone\u001b[39;00m] \u001b[39m=\u001b[39m \u001b[39m\"\u001b[39m\u001b[39m__all__\u001b[39m\u001b[39m\"\u001b[39m) \u001b[39m-\u001b[39m\u001b[39m>\u001b[39m \u001b[39mNone\u001b[39;00m:\n\u001b[0;32m    868\u001b[0m \u001b[39m    \u001b[39m\u001b[39m\"\"\"Create tables that do not exist in the database by calling\u001b[39;00m\n\u001b[0;32m    869\u001b[0m \u001b[39m    ``metadata.create_all()`` for all or some bind keys. This does not\u001b[39;00m\n\u001b[0;32m    870\u001b[0m \u001b[39m    update existing tables, use a migration library for that.\u001b[39;00m\n\u001b[1;32m   (...)\u001b[0m\n\u001b[0;32m    882\u001b[0m \u001b[39m        Added the ``bind`` and ``app`` parameters.\u001b[39;00m\n\u001b[0;32m    883\u001b[0m \u001b[39m    \"\"\"\u001b[39;00m\n\u001b[1;32m--> 884\u001b[0m     \u001b[39mself\u001b[39;49m\u001b[39m.\u001b[39;49m_call_for_binds(bind_key, \u001b[39m\"\u001b[39;49m\u001b[39mcreate_all\u001b[39;49m\u001b[39m\"\u001b[39;49m)\n",
      "File \u001b[1;32mc:\\Users\\pochs\\AppData\\Local\\miniconda3\\envs\\qanda_haystack\\lib\\site-packages\\flask_sqlalchemy\\extension.py:855\u001b[0m, in \u001b[0;36mSQLAlchemy._call_for_binds\u001b[1;34m(self, bind_key, op_name)\u001b[0m\n\u001b[0;32m    853\u001b[0m \u001b[39mfor\u001b[39;00m key \u001b[39min\u001b[39;00m keys:\n\u001b[0;32m    854\u001b[0m     \u001b[39mtry\u001b[39;00m:\n\u001b[1;32m--> 855\u001b[0m         engine \u001b[39m=\u001b[39m \u001b[39mself\u001b[39;49m\u001b[39m.\u001b[39;49mengines[key]\n\u001b[0;32m    856\u001b[0m     \u001b[39mexcept\u001b[39;00m \u001b[39mKeyError\u001b[39;00m:\n\u001b[0;32m    857\u001b[0m         message \u001b[39m=\u001b[39m \u001b[39mf\u001b[39m\u001b[39m\"\u001b[39m\u001b[39mBind key \u001b[39m\u001b[39m'\u001b[39m\u001b[39m{\u001b[39;00mkey\u001b[39m}\u001b[39;00m\u001b[39m'\u001b[39m\u001b[39m is not in \u001b[39m\u001b[39m'\u001b[39m\u001b[39mSQLALCHEMY_BINDS\u001b[39m\u001b[39m'\u001b[39m\u001b[39m config.\u001b[39m\u001b[39m\"\u001b[39m\n",
      "File \u001b[1;32mc:\\Users\\pochs\\AppData\\Local\\miniconda3\\envs\\qanda_haystack\\lib\\site-packages\\flask_sqlalchemy\\extension.py:636\u001b[0m, in \u001b[0;36mSQLAlchemy.engines\u001b[1;34m(self)\u001b[0m\n\u001b[0;32m    623\u001b[0m \u001b[39m@property\u001b[39m\n\u001b[0;32m    624\u001b[0m \u001b[39mdef\u001b[39;00m \u001b[39mengines\u001b[39m(\u001b[39mself\u001b[39m) \u001b[39m-\u001b[39m\u001b[39m>\u001b[39m t\u001b[39m.\u001b[39mMapping[\u001b[39mstr\u001b[39m \u001b[39m|\u001b[39m \u001b[39mNone\u001b[39;00m, sa\u001b[39m.\u001b[39mengine\u001b[39m.\u001b[39mEngine]:\n\u001b[0;32m    625\u001b[0m \u001b[39m    \u001b[39m\u001b[39m\"\"\"Map of bind keys to :class:`sqlalchemy.engine.Engine` instances for current\u001b[39;00m\n\u001b[0;32m    626\u001b[0m \u001b[39m    application. The ``None`` key refers to the default engine, and is available as\u001b[39;00m\n\u001b[0;32m    627\u001b[0m \u001b[39m    :attr:`engine`.\u001b[39;00m\n\u001b[1;32m   (...)\u001b[0m\n\u001b[0;32m    634\u001b[0m \u001b[39m    .. versionadded:: 3.0\u001b[39;00m\n\u001b[0;32m    635\u001b[0m \u001b[39m    \"\"\"\u001b[39;00m\n\u001b[1;32m--> 636\u001b[0m     app \u001b[39m=\u001b[39m current_app\u001b[39m.\u001b[39;49m_get_current_object()  \u001b[39m# type: ignore[attr-defined]\u001b[39;00m\n\u001b[0;32m    638\u001b[0m     \u001b[39mif\u001b[39;00m app \u001b[39mnot\u001b[39;00m \u001b[39min\u001b[39;00m \u001b[39mself\u001b[39m\u001b[39m.\u001b[39m_app_engines:\n\u001b[0;32m    639\u001b[0m         \u001b[39mraise\u001b[39;00m \u001b[39mRuntimeError\u001b[39;00m(\n\u001b[0;32m    640\u001b[0m             \u001b[39m\"\u001b[39m\u001b[39mThe current Flask app is not registered with this \u001b[39m\u001b[39m'\u001b[39m\u001b[39mSQLAlchemy\u001b[39m\u001b[39m'\u001b[39m\u001b[39m\"\u001b[39m\n\u001b[0;32m    641\u001b[0m             \u001b[39m\"\u001b[39m\u001b[39m instance. Did you forget to call \u001b[39m\u001b[39m'\u001b[39m\u001b[39minit_app\u001b[39m\u001b[39m'\u001b[39m\u001b[39m, or did you create\u001b[39m\u001b[39m\"\u001b[39m\n\u001b[0;32m    642\u001b[0m             \u001b[39m\"\u001b[39m\u001b[39m multiple \u001b[39m\u001b[39m'\u001b[39m\u001b[39mSQLAlchemy\u001b[39m\u001b[39m'\u001b[39m\u001b[39m instances?\u001b[39m\u001b[39m\"\u001b[39m\n\u001b[0;32m    643\u001b[0m         )\n",
      "File \u001b[1;32mc:\\Users\\pochs\\AppData\\Local\\miniconda3\\envs\\qanda_haystack\\lib\\site-packages\\werkzeug\\local.py:513\u001b[0m, in \u001b[0;36mLocalProxy.__init__.<locals>._get_current_object\u001b[1;34m()\u001b[0m\n\u001b[0;32m    511\u001b[0m     obj \u001b[39m=\u001b[39m local\u001b[39m.\u001b[39mget()  \u001b[39m# type: ignore[union-attr]\u001b[39;00m\n\u001b[0;32m    512\u001b[0m \u001b[39mexcept\u001b[39;00m \u001b[39mLookupError\u001b[39;00m:\n\u001b[1;32m--> 513\u001b[0m     \u001b[39mraise\u001b[39;00m \u001b[39mRuntimeError\u001b[39;00m(unbound_message) \u001b[39mfrom\u001b[39;00m \u001b[39mNone\u001b[39m\n\u001b[0;32m    515\u001b[0m \u001b[39mreturn\u001b[39;00m get_name(obj)\n",
      "\u001b[1;31mRuntimeError\u001b[0m: Working outside of application context.\n\nThis typically means that you attempted to use functionality that needed\nthe current application. To solve this, set up an application context\nwith app.app_context(). See the documentation for more information."
     ]
    }
   ],
   "source": [
    "import pathlib\n",
    "import logging\n",
    "\n",
    "logging.basicConfig(format=\"%(levelname)s - %(name)s -  %(message)s\", level=logging.WARNING)\n",
    "logging.getLogger(\"haystack\").setLevel(logging.INFO)\n"
   ]
  },
  {
   "cell_type": "code",
   "execution_count": null,
   "metadata": {},
   "outputs": [],
   "source": [
    "# Configure the logging\n",
    "\n",
    "logging.basicConfig(format=\"%(levelname)s - %(name)s -  %(message)s\", level=logging.WARNING)\n",
    "logging.getLogger(\"haystack\").setLevel(logging.INFO)\n",
    "\n",
    "# https://haystack.deepset.ai/tutorials/01_basic_qa_pipeline"
   ]
  },
  {
   "attachments": {},
   "cell_type": "markdown",
   "metadata": {},
   "source": [
    "Haystack is an end-end production ready NLP solution allowing rapid development with popular modules from Huggingface. In this tutorial we will cover the key components of haystack and how to interact with it. \n",
    "\n",
    "Haystack itself provides the relevant components to handle the data, pass it into a text pipeline, retrain the model, and interact with the model object.\n",
    "\n",
    "## Data Handling\n",
    "\n",
    "For data handling, Haystack uses the _DocumentStore_ module. Here the _DocumentStore_ acts as a database that stores the text and meta data in a format that can be rapidly queried when needing to retrieve the data for the model. There are multiple types of document stores such as _Elasticsearch_, FAISS (Meta's ), OpenSearch, SQL and a few more. If you want to learn more about the document stores capability you should check out the [Haystack documentation](https://docs.haystack.deepset.ai/docs/document_store). To integrate the _DocumentStore_, it needs to be initialized first. In the following example we will be applying the in memor _DocumentStore_ which is the simplest form of it."
   ]
  },
  {
   "cell_type": "code",
   "execution_count": 6,
   "metadata": {},
   "outputs": [
    {
     "ename": "ModuleNotFoundError",
     "evalue": "No module named 'haystack'",
     "output_type": "error",
     "traceback": [
      "\u001b[1;31m---------------------------------------------------------------------------\u001b[0m",
      "\u001b[1;31mModuleNotFoundError\u001b[0m                       Traceback (most recent call last)",
      "Cell \u001b[1;32mIn[6], line 1\u001b[0m\n\u001b[1;32m----> 1\u001b[0m \u001b[39mfrom\u001b[39;00m \u001b[39mhaystack\u001b[39;00m\u001b[39m.\u001b[39;00m\u001b[39mdocument_stores\u001b[39;00m \u001b[39mimport\u001b[39;00m InMemoryDocumentStore\n",
      "\u001b[1;31mModuleNotFoundError\u001b[0m: No module named 'haystack'"
     ]
    }
   ],
   "source": [
    "from haystack.document_stores import InMemoryDocumentStore"
   ]
  },
  {
   "cell_type": "code",
   "execution_count": null,
   "metadata": {},
   "outputs": [],
   "source": []
  }
 ],
 "metadata": {
  "kernelspec": {
   "display_name": "qanda_haystack",
   "language": "python",
   "name": "python3"
  },
  "language_info": {
   "codemirror_mode": {
    "name": "ipython",
    "version": 3
   },
   "file_extension": ".py",
   "mimetype": "text/x-python",
   "name": "python",
   "nbconvert_exporter": "python",
   "pygments_lexer": "ipython3",
   "version": "3.10.9"
  },
  "orig_nbformat": 4,
  "vscode": {
   "interpreter": {
    "hash": "04c9aa0f21845d976cf34d0d43011bff18ab5774555ae905882203d7aa0480f5"
   }
  }
 },
 "nbformat": 4,
 "nbformat_minor": 2
}
